{
  "nbformat": 4,
  "nbformat_minor": 0,
  "metadata": {
    "colab": {
      "name": "Untitled2.ipynb",
      "provenance": [],
      "include_colab_link": true
    },
    "kernelspec": {
      "name": "python3",
      "display_name": "Python 3"
    }
  },
  "cells": [
    {
      "cell_type": "markdown",
      "metadata": {
        "id": "view-in-github",
        "colab_type": "text"
      },
      "source": [
        "<a href=\"https://colab.research.google.com/github/kkashyap2011/Building-Computer-Vision-Projects-with-OpenCV4-and-CPlusPlus/blob/master/Untitled2.ipynb\" target=\"_parent\"><img src=\"https://colab.research.google.com/assets/colab-badge.svg\" alt=\"Open In Colab\"/></a>"
      ]
    },
    {
      "cell_type": "code",
      "metadata": {
        "id": "tMkE_9IYU5j6",
        "colab_type": "code",
        "colab": {
          "base_uri": "https://localhost:8080/",
          "height": 51
        },
        "outputId": "2add21e2-043d-42c1-a495-6b872955bf11"
      },
      "source": [
        "import json\n",
        "from difflib import get_close_matches\n",
        "\n",
        "data = json.load(open(\"data.json\"))\n",
        "\n",
        "def translate(w):\n",
        "    w = w.lower()\n",
        "    if w in data:\n",
        "        return data[w]\n",
        "    elif len(get_close_matches(w, data.keys())) > 0:\n",
        "        yn = input(\"Did you mean %s instead? Enter Y if yes, or N if no: \" % get_close_matches(w, data.keys())[0])\n",
        "        if yn == \"Y\":\n",
        "            return data[get_close_matches(w, data.keys())[0]]\n",
        "        elif yn == \"N\":\n",
        "            return \"The word doesn't exist. Please double check it.\"\n",
        "        else:\n",
        "            return \"We didn't understand your entry.\"\n",
        "    else:\n",
        "        return \"The word doesn't exist. Please double check it.\"\n",
        "\n",
        "word = input(\"Enter word: \")\n",
        "output = translate(word)\n",
        "if type(output) == list:\n",
        "    for item in output:\n",
        "        print(item)\n",
        "else:\n",
        "    print(output)\n"
      ],
      "execution_count": 1,
      "outputs": [
        {
          "output_type": "stream",
          "text": [
            "Enter word: car\n",
            "A four-wheeled motor vehicle used for land transport.\n"
          ],
          "name": "stdout"
        }
      ]
    }
  ]
}